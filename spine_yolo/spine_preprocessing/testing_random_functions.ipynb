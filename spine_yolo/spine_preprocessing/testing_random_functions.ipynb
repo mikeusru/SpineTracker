{
 "cells": [
  {
   "cell_type": "code",
   "execution_count": 32,
   "metadata": {},
   "outputs": [],
   "source": [
    "%gui tk\n",
    "%matplotlib inline\n",
    "\n",
    "import numpy as np\n",
    "import os\n",
    "import tkinter as tk\n",
    "from tkinter import filedialog\n",
    "import pandas as pd\n",
    "from glob import glob\n",
    "from skimage import transform\n",
    "import PIL.Image\n",
    "import re\n",
    "import matplotlib.pyplot as plt\n",
    "import matplotlib.patches as patches\n",
    "import h5py"
   ]
  },
  {
   "cell_type": "code",
   "execution_count": 3,
   "metadata": {},
   "outputs": [],
   "source": [
    "\n",
    "IMAGE_HEIGHT = 416\n",
    "IMAGE_WIDTH = 416\n",
    "IMAGE_CHANNELS = 3"
   ]
  },
  {
   "cell_type": "code",
   "execution_count": 16,
   "metadata": {},
   "outputs": [],
   "source": [
    "a = np.array(range(101))"
   ]
  },
  {
   "cell_type": "code",
   "execution_count": 18,
   "metadata": {},
   "outputs": [
    {
     "data": {
      "text/plain": [
       "array([  0,  10,  20,  30,  40,  50,  60,  70,  80,  90, 100])"
      ]
     },
     "execution_count": 18,
     "metadata": {},
     "output_type": "execute_result"
    }
   ],
   "source": [
    "a[0:101:10]\n"
   ]
  },
  {
   "cell_type": "code",
   "execution_count": 22,
   "metadata": {},
   "outputs": [],
   "source": [
    "image = np.zeros((1024,1024,3))"
   ]
  },
  {
   "cell_type": "code",
   "execution_count": 20,
   "metadata": {},
   "outputs": [
    {
     "data": {
      "text/plain": [
       "array([0., 0., 0., ..., 0., 0., 0.])"
      ]
     },
     "execution_count": 20,
     "metadata": {},
     "output_type": "execute_result"
    }
   ],
   "source": [
    "image"
   ]
  },
  {
   "cell_type": "code",
   "execution_count": 23,
   "metadata": {},
   "outputs": [
    {
     "data": {
      "text/plain": [
       "(1024, 1024, 3)"
      ]
     },
     "execution_count": 23,
     "metadata": {},
     "output_type": "execute_result"
    }
   ],
   "source": [
    "image.shape"
   ]
  },
  {
   "cell_type": "code",
   "execution_count": 31,
   "metadata": {},
   "outputs": [],
   "source": [
    "sl = np.s_[::10]"
   ]
  },
  {
   "cell_type": "code",
   "execution_count": 32,
   "metadata": {},
   "outputs": [
    {
     "data": {
      "text/plain": [
       "array([  0,  10,  20,  30,  40,  50,  60,  70,  80,  90, 100])"
      ]
     },
     "execution_count": 32,
     "metadata": {},
     "output_type": "execute_result"
    }
   ],
   "source": [
    "a[sl]"
   ]
  },
  {
   "cell_type": "code",
   "execution_count": 34,
   "metadata": {},
   "outputs": [],
   "source": [
    "orig_height, orig_width = image.shape[0], image.shape[1]\n",
    "\n"
   ]
  },
  {
   "cell_type": "code",
   "execution_count": 44,
   "metadata": {},
   "outputs": [
    {
     "data": {
      "text/plain": [
       "[array([], dtype=int32),\n",
       " array([100, 101, 102, 103, 104]),\n",
       " array([105, 106, 107, 108, 109]),\n",
       " array([110, 111, 112, 113, 114]),\n",
       " array([115, 116, 117, 118, 119]),\n",
       " array([120, 121, 122, 123, 124]),\n",
       " array([125, 126, 127, 128, 129]),\n",
       " array([130, 131, 132, 133, 134]),\n",
       " array([135, 136, 137, 138, 139]),\n",
       " array([140, 141, 142, 143, 144]),\n",
       " array([145, 146, 147, 148, 149]),\n",
       " array([150, 151, 152, 153, 154]),\n",
       " array([155, 156, 157, 158, 159]),\n",
       " array([160, 161, 162, 163, 164]),\n",
       " array([165, 166, 167, 168, 169]),\n",
       " array([170, 171, 172, 173, 174]),\n",
       " array([175, 176, 177, 178, 179]),\n",
       " array([180, 181, 182, 183, 184]),\n",
       " array([185, 186, 187, 188, 189]),\n",
       " array([190, 191, 192, 193, 194]),\n",
       " array([195, 196, 197, 198, 199, 200, 201, 202, 203, 204, 205, 206, 207,\n",
       "        208, 209, 210, 211, 212, 213, 214, 215, 216, 217, 218, 219, 220,\n",
       "        221, 222, 223, 224, 225, 226, 227, 228, 229, 230, 231, 232, 233,\n",
       "        234, 235, 236, 237, 238, 239, 240, 241, 242, 243, 244, 245, 246,\n",
       "        247, 248, 249, 250, 251, 252, 253, 254, 255, 256, 257, 258, 259,\n",
       "        260, 261, 262, 263, 264, 265, 266, 267, 268, 269, 270, 271, 272,\n",
       "        273, 274, 275, 276, 277, 278, 279, 280, 281, 282, 283, 284, 285,\n",
       "        286, 287, 288, 289, 290, 291, 292, 293, 294, 295, 296, 297, 298,\n",
       "        299, 300, 301, 302, 303, 304, 305, 306, 307, 308, 309, 310, 311,\n",
       "        312, 313, 314, 315, 316, 317, 318, 319, 320, 321, 322, 323, 324,\n",
       "        325, 326, 327, 328, 329, 330, 331, 332, 333, 334, 335, 336, 337,\n",
       "        338, 339, 340, 341, 342, 343, 344, 345, 346, 347, 348, 349, 350,\n",
       "        351, 352, 353, 354, 355, 356, 357, 358, 359, 360, 361, 362, 363,\n",
       "        364, 365, 366, 367, 368, 369, 370, 371, 372, 373, 374, 375, 376,\n",
       "        377, 378, 379, 380, 381, 382, 383, 384, 385, 386, 387, 388, 389,\n",
       "        390, 391, 392, 393, 394, 395, 396, 397, 398, 399])]"
      ]
     },
     "execution_count": 44,
     "metadata": {},
     "output_type": "execute_result"
    }
   ],
   "source": [
    "a = np.array(range(0,100,5))\n",
    "b = np.array(range(100,400))\n",
    "c = np.split(b,a)\n",
    "c"
   ]
  },
  {
   "cell_type": "code",
   "execution_count": 64,
   "metadata": {},
   "outputs": [],
   "source": [
    "split_indices_height = np.array(range(IMAGE_HEIGHT,orig_height,IMAGE_HEIGHT))"
   ]
  },
  {
   "cell_type": "code",
   "execution_count": 65,
   "metadata": {},
   "outputs": [
    {
     "data": {
      "text/plain": [
       "array([416, 832])"
      ]
     },
     "execution_count": 65,
     "metadata": {},
     "output_type": "execute_result"
    }
   ],
   "source": [
    "split_indices_height"
   ]
  },
  {
   "cell_type": "code",
   "execution_count": 66,
   "metadata": {},
   "outputs": [],
   "source": [
    "images_height = np.split(image, split_indices_height, axis = 0)"
   ]
  },
  {
   "cell_type": "code",
   "execution_count": 72,
   "metadata": {},
   "outputs": [
    {
     "data": {
      "text/plain": [
       "(192, 1024, 3)"
      ]
     },
     "execution_count": 72,
     "metadata": {},
     "output_type": "execute_result"
    }
   ],
   "source": [
    "images_height[2].shape"
   ]
  },
  {
   "cell_type": "code",
   "execution_count": 76,
   "metadata": {},
   "outputs": [],
   "source": [
    "split_indices_height = np.array(range(IMAGE_HEIGHT,orig_height,IMAGE_HEIGHT))        \n",
    "images_split_height = np.split(image, split_indices_height, axis = 0)\n",
    "images_split = []\n",
    "split_indices_width = np.array(range(IMAGE_WIDTH,orig_width,IMAGE_WIDTH))        \n",
    "for image_split_height in images_split_height:\n",
    "    images_split += (np.split(image_split_height, split_indices_width, axis = 1))"
   ]
  },
  {
   "cell_type": "code",
   "execution_count": 83,
   "metadata": {},
   "outputs": [
    {
     "data": {
      "text/plain": [
       "(416, 192, 3)"
      ]
     },
     "execution_count": 83,
     "metadata": {},
     "output_type": "execute_result"
    }
   ],
   "source": [
    "images_split[5].shape"
   ]
  },
  {
   "cell_type": "code",
   "execution_count": 85,
   "metadata": {},
   "outputs": [
    {
     "data": {
      "text/plain": [
       "array([416, 832])"
      ]
     },
     "execution_count": 85,
     "metadata": {},
     "output_type": "execute_result"
    }
   ],
   "source": [
    "bins = split_indices_height\n",
    "bins"
   ]
  },
  {
   "cell_type": "code",
   "execution_count": 88,
   "metadata": {},
   "outputs": [
    {
     "data": {
      "text/plain": [
       "array([  20,  612,    2, 1000])"
      ]
     },
     "execution_count": 88,
     "metadata": {},
     "output_type": "execute_result"
    }
   ],
   "source": [
    "x = np.array((20,612, 2, 1000))\n",
    "x"
   ]
  },
  {
   "cell_type": "code",
   "execution_count": 89,
   "metadata": {},
   "outputs": [
    {
     "data": {
      "text/plain": [
       "array([ 323, 1000, 1020,  600])"
      ]
     },
     "execution_count": 89,
     "metadata": {},
     "output_type": "execute_result"
    }
   ],
   "source": [
    "y = np.array((323, 1000, 1020, 600))\n",
    "y"
   ]
  },
  {
   "cell_type": "code",
   "execution_count": 96,
   "metadata": {},
   "outputs": [
    {
     "data": {
      "text/plain": [
       "array([0, 1, 0, 2], dtype=int64)"
      ]
     },
     "execution_count": 96,
     "metadata": {},
     "output_type": "execute_result"
    }
   ],
   "source": [
    "np.digitize(x,bins)"
   ]
  },
  {
   "cell_type": "code",
   "execution_count": 101,
   "metadata": {},
   "outputs": [
    {
     "data": {
      "text/plain": [
       "array([0, 1, 0, 2], dtype=int64)"
      ]
     },
     "execution_count": 101,
     "metadata": {},
     "output_type": "execute_result"
    }
   ],
   "source": [
    "x_indices = np.digitize(x, split_indices_width)\n",
    "y_indices = np.digitize(y, split_indices_height)\n",
    "x_indices"
   ]
  },
  {
   "cell_type": "code",
   "execution_count": 126,
   "metadata": {},
   "outputs": [
    {
     "data": {
      "text/plain": [
       "array([[None, None, None],\n",
       "       [None, None, None],\n",
       "       [None, None, None]], dtype=object)"
      ]
     },
     "execution_count": 126,
     "metadata": {},
     "output_type": "execute_result"
    }
   ],
   "source": [
    "y_x_coordinates_matrix = np.empty((len(split_indices_height)+1, len(split_indices_width)+1), dtype = np.object)\n",
    "y_x_coordinates_matrix"
   ]
  },
  {
   "cell_type": "code",
   "execution_count": 127,
   "metadata": {},
   "outputs": [
    {
     "data": {
      "text/plain": [
       "array([[list([]), None, None],\n",
       "       [None, None, None],\n",
       "       [None, None, None]], dtype=object)"
      ]
     },
     "execution_count": 127,
     "metadata": {},
     "output_type": "execute_result"
    }
   ],
   "source": [
    "y_x_coordinates_matrix[0,0] = []\n",
    "y_x_coordinates_matrix"
   ]
  },
  {
   "cell_type": "code",
   "execution_count": 151,
   "metadata": {},
   "outputs": [
    {
     "data": {
      "text/plain": [
       "array([[  20.,  612.,    2., 1000.],\n",
       "       [ 323., 1000., 1020.,  600.]], dtype=float32)"
      ]
     },
     "execution_count": 151,
     "metadata": {},
     "output_type": "execute_result"
    }
   ],
   "source": [
    "x_y_coordinates = np.array([np.array(x, dtype=np.float32), np.array(y, dtype=np.float32)])\n",
    "x_y_coordinates"
   ]
  },
  {
   "cell_type": "code",
   "execution_count": 159,
   "metadata": {},
   "outputs": [
    {
     "name": "stdout",
     "output_type": "stream",
     "text": [
      "20.0 323.0\n",
      "612.0 1000.0\n",
      "2.0 1020.0\n",
      "1000.0 600.0\n"
     ]
    }
   ],
   "source": [
    "for a,b in zip(x_y_coordinates[0,:], x_y_coordinates[1,:]):\n",
    "    print(a,b)"
   ]
  },
  {
   "cell_type": "code",
   "execution_count": 172,
   "metadata": {},
   "outputs": [
    {
     "data": {
      "text/plain": [
       "array([list([[20.0, 323.0]]), list([[1000.0, 600.0]]),\n",
       "       list([[612.0, 1000.0], [2.0, 1020.0]])], dtype=object)"
      ]
     },
     "execution_count": 172,
     "metadata": {},
     "output_type": "execute_result"
    }
   ],
   "source": [
    "coordinates_split_height = np.empty(len([1,2,3]), dtype = np.object)\n",
    "for x,y,y_ind in zip(x_y_coordinates[0,:], x_y_coordinates[1,:],y_indices):\n",
    "    if coordinates_split_height[y_ind] is None:\n",
    "        coordinates_split_height[y_ind] = []\n",
    "    coordinates_split_height[y_ind].append([x,y])\n",
    "    \n",
    "coordinates_split_height"
   ]
  },
  {
   "cell_type": "code",
   "execution_count": 182,
   "metadata": {},
   "outputs": [
    {
     "data": {
      "text/plain": [
       "array([[list([[20.0, 323.0]]), None, None],\n",
       "       [None, None, list([[1000.0, 600.0]])],\n",
       "       [list([[2.0, 1020.0]]), list([[612.0, 1000.0]]), None]],\n",
       "      dtype=object)"
      ]
     },
     "execution_count": 182,
     "metadata": {},
     "output_type": "execute_result"
    }
   ],
   "source": [
    "coordinates_split = np.empty((len([1,2,3]),len([1,2,3])), dtype = np.object)\n",
    "for x,y,x_ind,y_ind in zip(x_y_coordinates[0,:], x_y_coordinates[1,:],x_indices,y_indices):\n",
    "    if coordinates_split[y_ind,x_ind] is None:\n",
    "        coordinates_split[y_ind,x_ind] = []\n",
    "    coordinates_split[y_ind,x_ind].append([x,y])\n",
    "coordinates_split.flatten()\n"
   ]
  },
  {
   "cell_type": "code",
   "execution_count": 2,
   "metadata": {},
   "outputs": [],
   "source": [
    "images_path = \"spine_images.hdf5\"\n",
    "image_set = 'validation'\n",
    "hdf5_file_images = h5py.File(images_path, \"r\")\n",
    "\n",
    "data_len = hdf5_file_images[\"images\"].shape[0]\n",
    "\n",
    "partition = dict(train=np.array(range(int(0.9 * data_len))),\n",
    "                 validation=np.array(range(int(0.9 * data_len), data_len)))\n",
    "\n",
    "image_data = hdf5_file_images[\"images\"][partition[image_set],...]\n",
    "hdf5_file_images.close()"
   ]
  },
  {
   "cell_type": "code",
   "execution_count": 15,
   "metadata": {},
   "outputs": [],
   "source": [
    "hdf5_file_images.close()"
   ]
  },
  {
   "cell_type": "code",
   "execution_count": 24,
   "metadata": {},
   "outputs": [
    {
     "data": {
      "text/plain": [
       "(1, 416, 416, 3)"
      ]
     },
     "execution_count": 24,
     "metadata": {},
     "output_type": "execute_result"
    }
   ],
   "source": [
    "np.expand_dims(image_data,axis = 1)[1].shape"
   ]
  },
  {
   "cell_type": "code",
   "execution_count": 12,
   "metadata": {},
   "outputs": [
    {
     "data": {
      "text/plain": [
       "(455604,)"
      ]
     },
     "execution_count": 12,
     "metadata": {},
     "output_type": "execute_result"
    }
   ],
   "source": [
    "image = image_data[200]\n",
    "# plt.figure()\n",
    "# plt.imshow(image)\n"
   ]
  },
  {
   "cell_type": "code",
   "execution_count": 74,
   "metadata": {},
   "outputs": [
    {
     "name": "stderr",
     "output_type": "stream",
     "text": [
      "c:\\users\\smirnovm\\documents\\python scripts\\yad2k\\venv\\lib\\site-packages\\skimage\\transform\\_warps.py:84: UserWarning: The default mode, 'constant', will be changed to 'reflect' in skimage 0.15.\n",
      "  warn(\"The default mode, 'constant', will be changed to 'reflect' in \"\n"
     ]
    }
   ],
   "source": [
    "file_list = np.load(os.path.normpath('C:\\\\Users\\\\smirnovm\\\\Documents\\\\Data\\\\Labeled_Sliding_Window_Spines\\\\file_list.npz'))['file_list']\n",
    "data = np.load(file_list[0])\n",
    "image, boxes = data['image'], data['boxes']\n",
    "image.shape\n",
    "boxes.size\n",
    "list_IDs_temp = [1,2,3,5000,5]\n",
    "files_to_load = file_list[list_IDs_temp]\n",
    "images = [np.load(file)['image'] for file in files_to_load]\n",
    "boxes = [np.load(file)['boxes'] for file in files_to_load]\n",
    "orig_size = [i.shape for i in images]\n",
    "orig_size = np.expand_dims(orig_size, axis=0)\n",
    "\n",
    "# Image preprocessing.\n",
    "processed_images = [np.stack([i,i,i],2) for i in images]\n",
    "processed_images = np.array([transform.resize(i,(416, 416,3)) for i in processed_images])\n",
    "\n",
    "#boxes should be x_center, y_center, box_width, box_height\n",
    "boxes_processed = []\n",
    "for box in boxes:\n",
    "    if box.size>0:\n",
    "        box[:,0] = box[:,0] + box[:,2]/2\n",
    "        box[:,1] = box[:,1] + box[:,3]/2\n",
    "        box = np.concatenate((box,np.ones((box.shape[0],1))),axis = 1)\n",
    "    else:\n",
    "        box.reshape(-1,5)\n",
    "    boxes_processed.append(box)\n",
    "        \n",
    "# boxes[1].reshape(-1,5)\n"
   ]
  },
  {
   "cell_type": "code",
   "execution_count": 86,
   "metadata": {},
   "outputs": [],
   "source": [
    "# set box parameters as x_center, y_center, box_width, box_height, class\n",
    "# class is 1 for all boxes\n",
    "def translate_boxes_to_yolo(boxes):\n",
    "    yolo_boxes = []\n",
    "    for box in boxes:\n",
    "        if box.size > 0:\n",
    "            box = np.append(box,1)\n",
    "            box[0] = box[0] + box[2]/2\n",
    "            box[1] = box[1] + box[3]/2\n",
    "        else:\n",
    "            box.reshape(-1,5)\n",
    "        yolo_boxes.append(box)\n",
    "    return np.array(yolo_boxes)"
   ]
  },
  {
   "cell_type": "code",
   "execution_count": 91,
   "metadata": {},
   "outputs": [
    {
     "ename": "AttributeError",
     "evalue": "'list' object has no attribute 'reshape'",
     "output_type": "error",
     "traceback": [
      "\u001b[1;31m---------------------------------------------------------------------------\u001b[0m",
      "\u001b[1;31mAttributeError\u001b[0m                            Traceback (most recent call last)",
      "\u001b[1;32m<ipython-input-91-e7ecb18e39e7>\u001b[0m in \u001b[0;36m<module>\u001b[1;34m()\u001b[0m\n\u001b[0;32m      4\u001b[0m     \u001b[0myolo_boxes\u001b[0m\u001b[1;33m.\u001b[0m\u001b[0mappend\u001b[0m\u001b[1;33m(\u001b[0m\u001b[0mboxes\u001b[0m\u001b[1;33m)\u001b[0m\u001b[1;33m\u001b[0m\u001b[0m\n\u001b[0;32m      5\u001b[0m \u001b[0mboxes\u001b[0m \u001b[1;33m=\u001b[0m \u001b[0myolo_boxes\u001b[0m\u001b[1;33m\u001b[0m\u001b[0m\n\u001b[1;32m----> 6\u001b[1;33m \u001b[0mboxes\u001b[0m \u001b[1;33m=\u001b[0m \u001b[1;33m[\u001b[0m\u001b[0mbox\u001b[0m\u001b[1;33m.\u001b[0m\u001b[0mreshape\u001b[0m\u001b[1;33m(\u001b[0m\u001b[1;33m(\u001b[0m\u001b[1;33m-\u001b[0m\u001b[1;36m1\u001b[0m\u001b[1;33m,\u001b[0m \u001b[1;36m5\u001b[0m\u001b[1;33m)\u001b[0m\u001b[1;33m)\u001b[0m \u001b[1;32mfor\u001b[0m \u001b[0mbox\u001b[0m \u001b[1;32min\u001b[0m \u001b[0mboxes\u001b[0m\u001b[1;33m]\u001b[0m\u001b[1;33m\u001b[0m\u001b[0m\n\u001b[0m\u001b[0;32m      7\u001b[0m \u001b[1;33m\u001b[0m\u001b[0m\n\u001b[0;32m      8\u001b[0m \u001b[1;31m# Get box parameters as x_center, y_center, box_width, box_height, class.\u001b[0m\u001b[1;33m\u001b[0m\u001b[1;33m\u001b[0m\u001b[0m\n",
      "\u001b[1;32m<ipython-input-91-e7ecb18e39e7>\u001b[0m in \u001b[0;36m<listcomp>\u001b[1;34m(.0)\u001b[0m\n\u001b[0;32m      4\u001b[0m     \u001b[0myolo_boxes\u001b[0m\u001b[1;33m.\u001b[0m\u001b[0mappend\u001b[0m\u001b[1;33m(\u001b[0m\u001b[0mboxes\u001b[0m\u001b[1;33m)\u001b[0m\u001b[1;33m\u001b[0m\u001b[0m\n\u001b[0;32m      5\u001b[0m \u001b[0mboxes\u001b[0m \u001b[1;33m=\u001b[0m \u001b[0myolo_boxes\u001b[0m\u001b[1;33m\u001b[0m\u001b[0m\n\u001b[1;32m----> 6\u001b[1;33m \u001b[0mboxes\u001b[0m \u001b[1;33m=\u001b[0m \u001b[1;33m[\u001b[0m\u001b[0mbox\u001b[0m\u001b[1;33m.\u001b[0m\u001b[0mreshape\u001b[0m\u001b[1;33m(\u001b[0m\u001b[1;33m(\u001b[0m\u001b[1;33m-\u001b[0m\u001b[1;36m1\u001b[0m\u001b[1;33m,\u001b[0m \u001b[1;36m5\u001b[0m\u001b[1;33m)\u001b[0m\u001b[1;33m)\u001b[0m \u001b[1;32mfor\u001b[0m \u001b[0mbox\u001b[0m \u001b[1;32min\u001b[0m \u001b[0mboxes\u001b[0m\u001b[1;33m]\u001b[0m\u001b[1;33m\u001b[0m\u001b[0m\n\u001b[0m\u001b[0;32m      7\u001b[0m \u001b[1;33m\u001b[0m\u001b[0m\n\u001b[0;32m      8\u001b[0m \u001b[1;31m# Get box parameters as x_center, y_center, box_width, box_height, class.\u001b[0m\u001b[1;33m\u001b[0m\u001b[1;33m\u001b[0m\u001b[0m\n",
      "\u001b[1;31mAttributeError\u001b[0m: 'list' object has no attribute 'reshape'"
     ]
    }
   ],
   "source": [
    "yolo_boxes = []\n",
    "for box in boxes:\n",
    "    translate_boxes_to_yolo(boxes)\n",
    "    yolo_boxes.append(boxes)\n",
    "boxes = yolo_boxes\n",
    "boxes = [box.reshape((-1, 5)) for box in boxes]\n",
    "\n",
    "# Get box parameters as x_center, y_center, box_width, box_height, class.\n",
    "# boxes_xy = [0.5 * (box[:, 3:5] + box[:, 1:3]) for box in boxes]\n",
    "# boxes_wh = [box[:, 3:5] - box[:, 1:3] for box in boxes]\n",
    "boxes_xy = [box[:,:2] / orig_size for box in boxes]\n",
    "boxes_wh = [box[:,2:] / orig_size for box in boxes]\n",
    "boxes = [np.concatenate((boxes_xy[i], boxes_wh[i], box[:, 0:1]), axis=1) for i, box in enumerate(boxes)]\n"
   ]
  },
  {
   "cell_type": "code",
   "execution_count": 94,
   "metadata": {},
   "outputs": [
    {
     "data": {
      "text/plain": [
       "[[array([], shape=(0, 4), dtype=float64),\n",
       "  array([], shape=(0, 4), dtype=float64),\n",
       "  array([[ 87.51393443, 135.24672131,  26.66721311,  26.66721311],\n",
       "         [122.75983607, 139.34508197,  26.66721311,  26.66721311]]),\n",
       "  array([], shape=(0, 4), dtype=float64),\n",
       "  array([], shape=(0, 4), dtype=float64)],\n",
       " [array([], shape=(0, 4), dtype=float64),\n",
       "  array([], shape=(0, 4), dtype=float64),\n",
       "  array([[ 87.51393443, 135.24672131,  26.66721311,  26.66721311],\n",
       "         [122.75983607, 139.34508197,  26.66721311,  26.66721311]]),\n",
       "  array([], shape=(0, 4), dtype=float64),\n",
       "  array([], shape=(0, 4), dtype=float64)],\n",
       " [array([], shape=(0, 4), dtype=float64),\n",
       "  array([], shape=(0, 4), dtype=float64),\n",
       "  array([[ 87.51393443, 135.24672131,  26.66721311,  26.66721311],\n",
       "         [122.75983607, 139.34508197,  26.66721311,  26.66721311]]),\n",
       "  array([], shape=(0, 4), dtype=float64),\n",
       "  array([], shape=(0, 4), dtype=float64)],\n",
       " [array([], shape=(0, 4), dtype=float64),\n",
       "  array([], shape=(0, 4), dtype=float64),\n",
       "  array([[ 87.51393443, 135.24672131,  26.66721311,  26.66721311],\n",
       "         [122.75983607, 139.34508197,  26.66721311,  26.66721311]]),\n",
       "  array([], shape=(0, 4), dtype=float64),\n",
       "  array([], shape=(0, 4), dtype=float64)],\n",
       " [array([], shape=(0, 4), dtype=float64),\n",
       "  array([], shape=(0, 4), dtype=float64),\n",
       "  array([[ 87.51393443, 135.24672131,  26.66721311,  26.66721311],\n",
       "         [122.75983607, 139.34508197,  26.66721311,  26.66721311]]),\n",
       "  array([], shape=(0, 4), dtype=float64),\n",
       "  array([], shape=(0, 4), dtype=float64)]]"
      ]
     },
     "execution_count": 94,
     "metadata": {},
     "output_type": "execute_result"
    }
   ],
   "source": [
    "yolo_boxes"
   ]
  }
 ],
 "metadata": {
  "kernelspec": {
   "display_name": "yad2k",
   "language": "python",
   "name": "yad2k"
  },
  "language_info": {
   "codemirror_mode": {
    "name": "ipython",
    "version": 3
   },
   "file_extension": ".py",
   "mimetype": "text/x-python",
   "name": "python",
   "nbconvert_exporter": "python",
   "pygments_lexer": "ipython3",
   "version": "3.6.4"
  }
 },
 "nbformat": 4,
 "nbformat_minor": 2
}
