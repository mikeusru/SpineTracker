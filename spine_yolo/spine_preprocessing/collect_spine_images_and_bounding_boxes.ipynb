{
 "cells": [
  {
   "cell_type": "code",
   "execution_count": 1,
   "metadata": {},
   "outputs": [
    {
     "name": "stderr",
     "output_type": "stream",
     "text": [
      "c:\\users\\smirnovm\\documents\\python scripts\\yad2k\\venv\\lib\\site-packages\\h5py\\__init__.py:36: FutureWarning: Conversion of the second argument of issubdtype from `float` to `np.floating` is deprecated. In future, it will be treated as `np.float64 == np.dtype(float).type`.\n",
      "  from ._conv import register_converters as _register_converters\n"
     ]
    }
   ],
   "source": [
    "%gui tk\n",
    "%matplotlib inline\n",
    "\n",
    "import random\n",
    "import numpy as np\n",
    "import os\n",
    "import tkinter as tk\n",
    "from tkinter import filedialog\n",
    "import pandas as pd\n",
    "from glob import glob\n",
    "from skimage import transform\n",
    "import scipy.ndimage as ndi\n",
    "import PIL.Image\n",
    "import re\n",
    "import matplotlib.pyplot as plt\n",
    "import matplotlib.patches as patches\n",
    "import h5py"
   ]
  },
  {
   "cell_type": "code",
   "execution_count": 2,
   "metadata": {},
   "outputs": [],
   "source": [
    "#to increase accuracy, all images should have the same initial pixel/µm resolution\n",
    "\n",
    "IMAGE_HEIGHT = 416\n",
    "IMAGE_WIDTH = 416\n",
    "IMAGE_CHANNELS = 3\n",
    "BOX_WIDTH = 15 #px\n",
    "BOX_HEIGHT = 15 #px"
   ]
  },
  {
   "cell_type": "code",
   "execution_count": null,
   "metadata": {},
   "outputs": [],
   "source": [
    "#initialize tkinter stuff\n",
    "root = tk.Tk()\n",
    "root.withdraw()"
   ]
  },
  {
   "cell_type": "code",
   "execution_count": null,
   "metadata": {},
   "outputs": [],
   "source": [
    "# Choose directory with image and coordinate folders\n",
    "data_dir = os.path.normpath(filedialog.askdirectory())"
   ]
  },
  {
   "cell_type": "code",
   "execution_count": null,
   "metadata": {},
   "outputs": [],
   "source": [
    "# Create a dataframe for images and coordinates\n",
    "all_images = glob(os.path.join(data_dir, '*', '*.tif'))\n",
    "all_info = glob(os.path.join(data_dir, '*', '*.txt'))\n",
    "all_bounding_boxes = glob(os.path.join(data_dir, '*', '*.csv'))\n",
    "img_df = pd.DataFrame({'img_path': all_images, 'info_path': all_info, 'bounding_boxes_path': all_bounding_boxes})\n",
    "img_id = lambda in_path: in_path.split('\\\\')[-2][-6:]\n",
    "img_df['ImageID'] = img_df['img_path'].map(img_id)"
   ]
  },
  {
   "cell_type": "code",
   "execution_count": null,
   "metadata": {},
   "outputs": [],
   "source": [
    "# function to read images from files\n",
    "def load_image(img_file):\n",
    "    image = np.array(PIL.Image.open(img_file), dtype = np.uint8)\n",
    "#     image = imread(img_file)\n",
    "    image = np.stack([image,image,image], 2)\n",
    "    return image"
   ]
  },
  {
   "cell_type": "code",
   "execution_count": null,
   "metadata": {},
   "outputs": [],
   "source": [
    "# function to read bounding boxes from files\n",
    "def read_bounding_boxes(bounding_box_file):\n",
    "    boxes = np.genfromtxt(bounding_box_file, delimiter = ',')\n",
    "    return boxes"
   ]
  },
  {
   "cell_type": "code",
   "execution_count": null,
   "metadata": {},
   "outputs": [],
   "source": [
    "# load bounding boxes and images from files\n",
    "img_df['boxes'] = img_df['bounding_boxes_path'].map(read_bounding_boxes)\n",
    "img_df['images'] = img_df['img_path'].map(load_image)"
   ]
  },
  {
   "cell_type": "code",
   "execution_count": null,
   "metadata": {},
   "outputs": [],
   "source": [
    "#Show a few sample split images with boxes\n",
    "n_img = 3\n",
    "fig, m_axs = plt.subplots(1, n_img, figsize=(12, 4))\n",
    "for img,ax_ind in zip(img_df['images'].loc[:n_img], range(n_img)):\n",
    "    m_axs[ax_ind].imshow(img)\n",
    "    if sum(img_df['boxes'].loc[ax_ind].shape) > 0:\n",
    "        for pos in img_df['boxes'].loc[ax_ind]:\n",
    "#             x_rect = x-BOX_WIDTH/2\n",
    "#             y_rect = y-BOX_HEIGHT/2\n",
    "#             x_y_rect = xy-np.array([BOX_HEIGHT/2,BOX_WIDTH/2])\n",
    "            rect = patches.Rectangle(pos[:2],pos[2],pos[3],linewidth=1,edgecolor='r',facecolor='none')\n",
    "            m_axs[ax_ind].add_patch(rect)\n",
    "plt.show(fig)\n"
   ]
  },
  {
   "cell_type": "code",
   "execution_count": null,
   "metadata": {},
   "outputs": [],
   "source": [
    "# function to identify which images need to be split \n",
    "def flag_big_images(image):\n",
    "    orig_height, orig_width = image.shape[0], image.shape[1]\n",
    "    big_image_flag = False\n",
    "    if orig_height > IMAGE_HEIGHT or orig_width > IMAGE_WIDTH:\n",
    "        big_image_flag = True\n",
    "    return big_image_flag"
   ]
  },
  {
   "cell_type": "code",
   "execution_count": null,
   "metadata": {},
   "outputs": [],
   "source": [
    "# flag big images\n",
    "img_df['big_image_flag'] = img_df['images'].map(flag_big_images)"
   ]
  },
  {
   "cell_type": "code",
   "execution_count": null,
   "metadata": {},
   "outputs": [],
   "source": [
    "# function to resize images and bounding boxes\n",
    "def resize_images_and_bounding_boxes(row):\n",
    "    image = row['images'].copy()\n",
    "    boxes = row['boxes'].copy()\n",
    "    orig_height, orig_width = image.shape[0], image.shape[1]\n",
    "    image = transform.resize(image,(IMAGE_HEIGHT, IMAGE_WIDTH, IMAGE_CHANNELS))\n",
    "    if sum(boxes.shape) > 0:\n",
    "        if boxes.size == 4:\n",
    "            boxes = boxes.reshape((1,4))\n",
    "        boxes[:,0] = boxes[:,0] * IMAGE_WIDTH/orig_width\n",
    "        boxes[:,1] = boxes[:,1] * IMAGE_HEIGHT/orig_height\n",
    "        boxes[:,2] = boxes[:,2] * IMAGE_WIDTH/orig_width\n",
    "        boxes[:,3] = boxes[:,3] * IMAGE_HEIGHT/orig_height\n",
    "    return image, boxes"
   ]
  },
  {
   "cell_type": "code",
   "execution_count": null,
   "metadata": {},
   "outputs": [],
   "source": [
    "# function to split images into proper heights/widths\n",
    "# any files split too small will be padded later on\n",
    "# this function should only take rows of images which have been flagged as large\n",
    "def split_large_images_and_boxes(row):\n",
    "    image = row['images']\n",
    "    orig_height, orig_width = image.shape[0], image.shape[1]\n",
    "    #first, split images by height\n",
    "    split_indices_height = np.array(range(IMAGE_HEIGHT,orig_height,IMAGE_HEIGHT))\n",
    "    split_indices_width = np.array(range(IMAGE_WIDTH,orig_width,IMAGE_WIDTH))        \n",
    "    images_split_height = np.split(image, split_indices_height, axis = 0)\n",
    "    #split coordinates by y, accordingly\n",
    "    x_y_coordinates = row['boxes'][:,:2]+row['boxes'][:,2:]/2\n",
    "    boxes = row['boxes']\n",
    "    #split coordinates into individual lists for indexing\n",
    "    x_all = np.array([x for x,_ in x_y_coordinates])\n",
    "    y_all = np.array([y for _,y in x_y_coordinates])\n",
    "    if len(split_indices_width) > 0:\n",
    "        x_indices = np.digitize(x_all, split_indices_width)\n",
    "    else: x_indices = np.zeros(x_all.shape, dtype = np.uint8)\n",
    "            \n",
    "    if len(split_indices_height) > 0:\n",
    "        y_indices = np.digitize(y_all, split_indices_height)\n",
    "    else: y_indices = np.zeros(y_all.shape, dtype = np.uint8)\n",
    "\n",
    "    # coordinates are split into matrix in shape of split image\n",
    "    boxes_split = np.empty((len(split_indices_height)+1,len(split_indices_width)+1), dtype = np.object)\n",
    "    for box,x_ind,y_ind in zip(boxes,x_indices,y_indices):\n",
    "        if boxes_split[y_ind,x_ind] is None:\n",
    "            boxes_split[y_ind,x_ind] = []\n",
    "        # correct coordinates for amount of pixels which are removed before them\n",
    "        # this only works if coordinates are calculated from top left so make sure that's the case\n",
    "#         x_corrected = x - x_ind * IMAGE_WIDTH\n",
    "#         y_corrected = y - y_ind * IMAGE_HEIGHT\n",
    "        box_corrected = box.copy()\n",
    "        box_corrected[:2] -= np.array([x_ind * IMAGE_WIDTH, y_ind * IMAGE_HEIGHT])\n",
    "        boxes_split[y_ind,x_ind].append(box_corrected)\n",
    "    # flatten coordinate matrix so its shape aligns with images_split\n",
    "    boxes_split = boxes_split.flatten().tolist()\n",
    "    #translate all lists to numpy arrays\n",
    "    boxes_split = [np.array(x) for x in boxes_split]\n",
    "    images_split = []\n",
    "    #create now, split images by width and create list of all images\n",
    "    for image_split_height in images_split_height:\n",
    "        images_split += np.split(image_split_height, split_indices_width, axis = 1)\n",
    "    return images_split, boxes_split"
   ]
  },
  {
   "cell_type": "code",
   "execution_count": null,
   "metadata": {},
   "outputs": [],
   "source": [
    "# resize images and boxes and put them in new dataframe\n",
    "\n",
    "images_resized_all = []\n",
    "boxes_resized_all = []\n",
    "#create row with dataframe structure to add on to\n",
    "# df_addon_resized = img_df.loc[[0]].copy()\n",
    "for index,row in img_df.iterrows():\n",
    "    # create dummy row from current one\n",
    "    clean_row = img_df.loc[[index]].copy()\n",
    "    clean_row['images'] = None\n",
    "    clean_row['boxes'] = None\n",
    "    images_resized, boxes_resized = resize_images_and_bounding_boxes(row)\n",
    "    images_resized_all.append(images_resized)\n",
    "    boxes_resized_all.append(boxes_resized)\n",
    "#     df_addon_resized = df_addon_resized.append([clean_row]*len(images_resized), ignore_index = True)\n",
    "df_addon_resized = img_df.copy()\n",
    "# df_addon_resized = df_addon_resized.drop(index = 0)\n",
    "df_addon_resized['images'] = images_resized_all\n",
    "df_addon_resized['boxes'] = np.array(boxes_resized_all)\n"
   ]
  },
  {
   "cell_type": "code",
   "execution_count": null,
   "metadata": {},
   "outputs": [],
   "source": [
    "# split images and boxes and put them in new dataframe\n",
    "images_split_all = []\n",
    "boxes_split_all = []\n",
    "#create row with dataframe structure to add on to\n",
    "df_addon = img_df.loc[[0]].copy()\n",
    "for index,row in img_df[img_df['big_image_flag']].iterrows():\n",
    "    # create dummy row from current one\n",
    "    clean_row = img_df.loc[[index]].copy()\n",
    "    clean_row['images'] = None\n",
    "    clean_row['boxes'] = None\n",
    "    images_split, boxes_split = split_large_images_and_boxes(row)\n",
    "    images_split_all += images_split\n",
    "    boxes_split_all += boxes_split\n",
    "    df_addon = df_addon.append([clean_row]*len(images_split), ignore_index = True)\n",
    "df_addon = df_addon.drop(index = 0)\n",
    "df_addon['images']=np.array(images_split_all)\n",
    "df_addon['boxes'] = np.array(boxes_split_all)\n"
   ]
  },
  {
   "cell_type": "code",
   "execution_count": null,
   "metadata": {},
   "outputs": [],
   "source": [
    "# append new rows and remove big images from initial dataframe\n",
    "img_df = img_df.drop(index = img_df[img_df['big_image_flag']].index)\n",
    "img_df = img_df.append(df_addon,ignore_index = True)\n",
    "img_df = img_df.append(df_addon_resized, ignore_index = True)\n",
    "# rename big_image_flag column to split_image\n",
    "img_df = img_df.rename(columns = {'big_image_flag':'split_image'})\n",
    "# img_df.loc[[len(img_df)-10]]"
   ]
  },
  {
   "cell_type": "code",
   "execution_count": null,
   "metadata": {},
   "outputs": [],
   "source": [
    "#Show a few sample split images with boxes\n",
    "n_img = 6\n",
    "fig, m_axs = plt.subplots(1, n_img, figsize=(12, 4))\n",
    "for img,ax_ind in zip(images_split_all[:n_img], range(n_img)):\n",
    "    m_axs[ax_ind].imshow(img)\n",
    "    if sum(boxes_split_all[ax_ind].shape) > 0:\n",
    "        for box in boxes_split_all[ax_ind]:\n",
    "#             x_rect = x-BOX_WIDTH/2\n",
    "#             y_rect = y-BOX_HEIGHT/2\n",
    "#             x_y_rect = xy-np.array([BOX_HEIGHT/2,BOX_WIDTH/2])\n",
    "            rect = patches.Rectangle(box[:2],box[2],box[3],linewidth=1,edgecolor='r',facecolor='none')\n",
    "            m_axs[ax_ind].add_patch(rect)\n",
    "plt.show(fig)"
   ]
  },
  {
   "cell_type": "code",
   "execution_count": null,
   "metadata": {},
   "outputs": [],
   "source": [
    "# get image shapes\n",
    "img_df['shape'] = img_df['images'].map(lambda x: x.shape)\n",
    "# img_df.sample(2)"
   ]
  },
  {
   "cell_type": "code",
   "execution_count": null,
   "metadata": {},
   "outputs": [],
   "source": [
    "# Calculate max dimensions\n",
    "# max_y,max_x,max_z = 0,0,0\n",
    "# for y,x,z in img_df['shape']:\n",
    "#     max_x = np.max([max_x, x])\n",
    "#     max_y = np.max([max_y, y])\n",
    "#     max_z = np.max([max_z, z])\n",
    "# max_y, max_x, max_z\n",
    "max_y, max_x, max_z = IMAGE_HEIGHT, IMAGE_WIDTH, 3"
   ]
  },
  {
   "cell_type": "code",
   "execution_count": null,
   "metadata": {},
   "outputs": [],
   "source": [
    "# function to pad images and shift coordinates accordingly\n",
    "\n",
    "def pad_image_and_shift_boxes(row):\n",
    "    image = row['images']\n",
    "    row['boxes_shifted'] = row['boxes'].copy()\n",
    "    row['images_padded'] = image.copy()\n",
    "    y,x,z = image.shape\n",
    "    if image.shape == (max_y,max_x,max_z):\n",
    "        return row\n",
    "    pad_y, pad_x, pad_z = max_y - y, max_x - x, max_z - z\n",
    "    y1,y2 = np.floor(pad_y/2).astype(int), np.floor(pad_y/2).astype(int) + pad_y%2\n",
    "    x1,x2 = np.floor(pad_x/2).astype(int), np.floor(pad_x/2).astype(int) + pad_x%2\n",
    "    z1,z2 = np.floor(pad_z/2).astype(int), np.floor(pad_z/2).astype(int) + pad_z%2\n",
    "    row['images_padded'] = np.pad(image, ((y1,y2),(x1,x2),(z1,z2)), mode = 'constant')\n",
    "    if row['boxes_shifted'] is None:\n",
    "        return row\n",
    "#     row['x_y_coordinates_shifted'][0] = row['x_y_coordinates'][0] + x1\n",
    "#     row['x_y_coordinates_shifted'][1] = row['x_y_coordinates'][1] + y1\n",
    "    if sum(row['boxes_shifted'].shape) >0: #to make sure it's not empty\n",
    "#         print(row['boxes_shifted'][:,:2])\n",
    "#         print(np.array([x1,y1]))\n",
    "#         print('yes')\n",
    "        if len(row['boxes_shifted'].shape)==1:\n",
    "            row['boxes_shifted'] = np.reshape(row['boxes_shifted'],(-1,4))\n",
    "        row['boxes_shifted'][:,:2] += np.array([x1,y1])\n",
    "    return row"
   ]
  },
  {
   "cell_type": "code",
   "execution_count": null,
   "metadata": {},
   "outputs": [],
   "source": [
    "#Show a few sample split images with boxes\n",
    "n_img = 3\n",
    "index_offset = 0\n",
    "fig, m_axs = plt.subplots(1, n_img, figsize=(12, 4))\n",
    "for img,ax_ind in zip(img_df['images'].loc[index_offset:n_img+index_offset], range(n_img)):\n",
    "    m_axs[ax_ind].imshow(img)\n",
    "    if sum(img_df['boxes'].loc[ax_ind+index_offset].shape) > 0:\n",
    "        for pos in img_df['boxes'].loc[ax_ind+index_offset]:\n",
    "#             x_rect = x-BOX_WIDTH/2\n",
    "#             y_rect = y-BOX_HEIGHT/2\n",
    "#             x_y_rect = xy-np.array([BOX_HEIGHT/2,BOX_WIDTH/2])\n",
    "            rect = patches.Rectangle(pos[:2],pos[2],pos[3],linewidth=1,edgecolor='r',facecolor='none')\n",
    "            m_axs[ax_ind].add_patch(rect)\n",
    "plt.show(fig)\n"
   ]
  },
  {
   "cell_type": "code",
   "execution_count": null,
   "metadata": {},
   "outputs": [],
   "source": [
    "#Apply padding to all images and shift coordinates respectively\n",
    "img_df = img_df.apply(pad_image_and_shift_boxes, axis = 1)\n",
    "img_df.loc[0]\n"
   ]
  },
  {
   "cell_type": "code",
   "execution_count": null,
   "metadata": {},
   "outputs": [],
   "source": [
    "#Show a few sample split images with boxes\n",
    "n_img = 3\n",
    "fig, m_axs = plt.subplots(1, n_img, figsize=(12, 4))\n",
    "for img,ax_ind in zip(img_df['images_padded'].loc[:n_img], range(n_img)):\n",
    "    m_axs[ax_ind].imshow(img)\n",
    "    if sum(img_df['boxes_shifted'].loc[ax_ind].shape) > 0:\n",
    "        for pos in img_df['boxes_shifted'].loc[ax_ind]:\n",
    "#             x_rect = x-BOX_WIDTH/2\n",
    "#             y_rect = y-BOX_HEIGHT/2\n",
    "#             x_y_rect = xy-np.array([BOX_HEIGHT/2,BOX_WIDTH/2])\n",
    "            rect = patches.Rectangle(pos[:2],pos[2],pos[3],linewidth=1,edgecolor='r',facecolor='none')\n",
    "            m_axs[ax_ind].add_patch(rect)\n",
    "plt.show(fig)\n"
   ]
  },
  {
   "cell_type": "code",
   "execution_count": null,
   "metadata": {},
   "outputs": [],
   "source": [
    "#Show a bunch of random sample images with boxes\n",
    "n_img = 9\n",
    "n_x_ax = 3\n",
    "n_y_ax = 3\n",
    "img_index = random.sample(range(len(img_df)),n_img)\n",
    "print(img_index)\n",
    "fig, m_axs = plt.subplots(n_y_ax, n_x_ax, figsize=(14,14))\n",
    "for ax_ind, img_ind in zip(range(n_img), img_index):\n",
    "    row = np.floor(ax_ind/n_y_ax).astype('uint8')\n",
    "    col = ax_ind%n_x_ax\n",
    "    m_axs[row,col].imshow(img_df['images_padded'].loc[img_ind])\n",
    "    if sum(img_df['boxes_shifted'].loc[img_ind].shape) > 0:\n",
    "        for pos in img_df['boxes_shifted'].loc[img_ind]:\n",
    "#             x_rect = x-BOX_WIDTH/2\n",
    "#             y_rect = y-BOX_HEIGHT/2\n",
    "#             x_y_rect = xy-np.array([BOX_HEIGHT/2,BOX_WIDTH/2])\n",
    "            rect = patches.Rectangle(pos[:2],pos[2],pos[3],linewidth=1,edgecolor='r',facecolor='none')\n",
    "            m_axs[row,col].add_patch(rect)\n",
    "plt.show(fig)\n"
   ]
  },
  {
   "cell_type": "code",
   "execution_count": null,
   "metadata": {},
   "outputs": [],
   "source": [
    "# function to make boxes match for yolo\n",
    "\n",
    "def boxes_to_yolo_boxes(boxes):\n",
    "    #boxes is an array of shape (num_boxes,5) containing 1D list of class, x_min, y_max, x_max, y_max.\n",
    "    # class is always labeled as \"1\" for spine since that's the only thing we're looking for. DOOOEEEEEE\n",
    "    yolo_boxes = []\n",
    "    if sum(boxes.shape) > 0:\n",
    "        for x,y,w,h in boxes:\n",
    "            yolo_box = np.array([1, x,y, x+w,y+h])\n",
    "            yolo_boxes.append(yolo_box)\n",
    "    return np.array(yolo_boxes)\n"
   ]
  },
  {
   "cell_type": "code",
   "execution_count": null,
   "metadata": {},
   "outputs": [],
   "source": [
    "#map boxes to yolo boxes\n",
    "img_df['yolo_boxes'] = img_df['boxes_shifted'].map(boxes_to_yolo_boxes)\n",
    "img_df.sample(2)"
   ]
  },
  {
   "cell_type": "code",
   "execution_count": null,
   "metadata": {},
   "outputs": [],
   "source": [
    "# create padded array of all boxes\n",
    "def create_padded_formatted_box_array(boxes, image_size):\n",
    "    image_size = np.array(image_size)\n",
    "    image_size = np.expand_dims(image_size, axis=0)\n",
    "    image_size = np.array(image_size)\n",
    "    boxes = img_df['yolo_boxes'].as_matrix()\n",
    "    # Box preprocessing.\n",
    "    # Original boxes stored as 1D list of class, x_min, y_min, x_max, y_max.\n",
    "    boxes = [box.reshape((-1, 5)) for box in boxes]\n",
    "    # Get extents as y_min, x_min, y_max, x_max, class for comparision with\n",
    "    # model output.\n",
    "    boxes_extents = [box[:, [2, 1, 4, 3, 0]] for box in boxes]\n",
    "\n",
    "    # Get box parameters as x_center, y_center, box_width, box_height, class.\n",
    "    boxes_xy = [0.5 * (box[:, 3:5] + box[:, 1:3]) for box in boxes]\n",
    "    boxes_wh = [box[:, 3:5] - box[:, 1:3] for box in boxes]\n",
    "    boxes_xy = [boxxy / image_size for boxxy in boxes_xy]\n",
    "    boxes_wh = [boxwh / image_size for boxwh in boxes_wh]\n",
    "    boxes = [np.concatenate((boxes_xy[i], boxes_wh[i], box[:, 0:1]), axis=1) for i, box in enumerate(boxes)]\n",
    "\n",
    "    # find the max number of boxes\n",
    "    max_boxes = 0\n",
    "    for boxz in boxes:\n",
    "        if boxz.shape[0] > max_boxes:\n",
    "            max_boxes = boxz.shape[0]\n",
    "\n",
    "    # add zero pad for training\n",
    "    for i, boxz in enumerate(boxes):\n",
    "        if boxz.shape[0] < max_boxes:\n",
    "            zero_padding = np.zeros((max_boxes - boxz.shape[0], 5), dtype=np.float32)\n",
    "            boxes[i] = np.vstack((boxz, zero_padding))\n",
    "    boxes = np.array(boxes)\n",
    "    \n",
    "    # avoid errors due to incorrect coordinates etc     \n",
    "    boxes[...,:4][boxes[...,:4] > .95] = .95\n",
    "    boxes[...,:4][boxes[...,:4] < 0] = 0\n",
    "        \n",
    "    return boxes"
   ]
  },
  {
   "cell_type": "code",
   "execution_count": null,
   "metadata": {},
   "outputs": [],
   "source": [
    "#save images to HDF5 File\n",
    "file_name = 'spine_images.hdf5'\n",
    "hdf5_file = h5py.File(file_name, mode='w')\n",
    "hdf5_file.create_dataset(\"images\", (len(img_df['images_padded']), IMAGE_WIDTH,IMAGE_HEIGHT,IMAGE_CHANNELS), np.float)\n",
    "\n",
    "# loop over images\n",
    "# this probably doesn't need a loop? but maybe it does i guess so images are separate...\n",
    "for i in range(len(img_df['images_padded'])):\n",
    "    # print how many images are saved every 1000 images\n",
    "    if i % 1000 == 0 and i > 1:\n",
    "        print('Image data: {}/{}'.format(i, len(img_df['images_padded'])))\n",
    "#     image_storage.append(image_array_uint8[i,:,:,:])\n",
    "#     image_storage.append(np.expand_dims(img_df['images_padded'].loc[i],axis = 0))\n",
    "    image_to_save = np.expand_dims(img_df['images_padded'].loc[i].astype(np.float)/np.max(img_df['images_padded'].loc[i]),axis = 0)\n",
    "    hdf5_file[\"images\"][i, ...] = image_to_save\n",
    "#     boxes_storage.append(img_df['yolo_boxes'])\n",
    "# save the mean and close the hdf5 file\n",
    "hdf5_file.close()\n",
    "print('Image data save finished')"
   ]
  },
  {
   "cell_type": "code",
   "execution_count": null,
   "metadata": {},
   "outputs": [],
   "source": [
    "# save boxes to hdf5 file array\n",
    "file_name_boxes = 'spine_boxes.hdf5'\n",
    "boxes = create_padded_formatted_box_array(img_df['yolo_boxes'].as_matrix(), (416,416))\n",
    "hdf5_file_boxes = h5py.File(file_name_boxes, mode='w')\n",
    "hdf5_file_boxes.create_dataset(\"boxes\", data = boxes)\n",
    "hdf5_file_boxes.close()"
   ]
  },
  {
   "cell_type": "code",
   "execution_count": null,
   "metadata": {},
   "outputs": [],
   "source": [
    "# load sample underwater_data.npz to check what data should look like\n",
    "# underwater_data = np.load('..//data//underwater_data.npz')"
   ]
  },
  {
   "cell_type": "code",
   "execution_count": null,
   "metadata": {},
   "outputs": [],
   "source": [
    "hdf5_file_boxes.close()"
   ]
  },
  {
   "cell_type": "code",
   "execution_count": null,
   "metadata": {},
   "outputs": [],
   "source": [
    "# underwater_data['boxes'][50]"
   ]
  },
  {
   "cell_type": "code",
   "execution_count": null,
   "metadata": {},
   "outputs": [],
   "source": [
    "#save two samples for testing training algorithm\n",
    "# np.savez('spine_images_and_boxes_2_sample', images = images[220:222], boxes = boxes[220:222])"
   ]
  },
  {
   "cell_type": "code",
   "execution_count": null,
   "metadata": {},
   "outputs": [],
   "source": [
    "images = img_df['images_padded'].loc[1:100].as_matrix()"
   ]
  },
  {
   "cell_type": "code",
   "execution_count": null,
   "metadata": {},
   "outputs": [],
   "source": [
    "images = np.stack(images, axis = 0)"
   ]
  },
  {
   "cell_type": "code",
   "execution_count": null,
   "metadata": {},
   "outputs": [],
   "source": [
    "X = images\n",
    "X = X.astype(np.float) / 255\n",
    "X = [np.squeeze(X[i, :, :, :]) for i in range(X.shape[0])]\n"
   ]
  },
  {
   "cell_type": "code",
   "execution_count": null,
   "metadata": {},
   "outputs": [],
   "source": [
    "X_array = np.zeros((len(X),),dtype = np.object)\n",
    "X_array.shape\n",
    "for i in range(len(X)):\n",
    "    X_array[i] = X[i]\n",
    "X_array.shape"
   ]
  },
  {
   "cell_type": "code",
   "execution_count": null,
   "metadata": {},
   "outputs": [],
   "source": [
    "hdf5_file_boxes.close()"
   ]
  },
  {
   "cell_type": "code",
   "execution_count": null,
   "metadata": {},
   "outputs": [],
   "source": [
    "#test loading data\n",
    "file_name ='spine_images_all.hdf5'\n",
    "\n",
    "hdf5_file = tables.open_file(file_name, mode='r')\n",
    "images_all =hdf5_file.root.images[:]\n",
    "hdf5_file\n",
    "hdf5_file.close()"
   ]
  },
  {
   "cell_type": "code",
   "execution_count": null,
   "metadata": {},
   "outputs": [],
   "source": [
    "print(images_all.shape)\n",
    "images_obj = [images_all[i,:,:,:] for i in range(images_all.shape[0])]\n",
    "# images_obj = np.array(images_obj, dtype = np.object)\n",
    "i_obj = np.array(images_obj[0])\n",
    "# images_obj.shape\n",
    "i_obj[0][0][0]"
   ]
  },
  {
   "cell_type": "code",
   "execution_count": null,
   "metadata": {},
   "outputs": [],
   "source": [
    "images = [PIL.Image.fromarray(images_all[i,:,:,:]) for i in range(images_all.shape[0])]\n"
   ]
  },
  {
   "cell_type": "code",
   "execution_count": null,
   "metadata": {},
   "outputs": [],
   "source": [
    "#test loading data\n",
    "file_name ='spine_images_all.hdf5'\n",
    "\n",
    "hdf5_file = h5py.File(file_name, \"r\")\n",
    "images_all =hdf5_file[\"images\"][:,...]\n",
    "images_all.shape\n",
    "hdf5_file.close()"
   ]
  },
  {
   "cell_type": "code",
   "execution_count": null,
   "metadata": {},
   "outputs": [],
   "source": [
    "# images = [PIL.Image.fromarray(images_all[i,:,:,:]) for i in range(images_all.shape[0])]\n",
    "images_all[1,:,:,:].dtype"
   ]
  },
  {
   "cell_type": "code",
   "execution_count": null,
   "metadata": {},
   "outputs": [],
   "source": [
    "file_name ='spine_images.hdf5'\n",
    "hdf5_file = h5py.File(file_name, \"r\")\n",
    "hdf5_file[\"images\"].shape"
   ]
  },
  {
   "cell_type": "code",
   "execution_count": null,
   "metadata": {},
   "outputs": [],
   "source": [
    "img = hdf5_file[\"images\"][0,...]"
   ]
  },
  {
   "cell_type": "code",
   "execution_count": null,
   "metadata": {},
   "outputs": [],
   "source": [
    "plt.figure()\n",
    "plt.imshow(img)"
   ]
  },
  {
   "cell_type": "code",
   "execution_count": null,
   "metadata": {},
   "outputs": [],
   "source": [
    "ids = hdf5_file[\"images\"].shape[0]\n",
    "ids"
   ]
  },
  {
   "cell_type": "code",
   "execution_count": null,
   "metadata": {},
   "outputs": [],
   "source": [
    "hdf5_file.close()"
   ]
  },
  {
   "cell_type": "code",
   "execution_count": null,
   "metadata": {},
   "outputs": [],
   "source": [
    "hdf5_file = h5py.File(file_name, \"r\")\n",
    "data_len = hdf5_file[\"images\"].shape[0]\n",
    "\n",
    "\n",
    "hdf5_file.close()"
   ]
  },
  {
   "cell_type": "code",
   "execution_count": null,
   "metadata": {},
   "outputs": [],
   "source": [
    "partition = dict(training = np.array(range(int(0.9*data_len))), \n",
    "                 validation = np.array(range(int(0.9*data_len),data_len)))\n",
    "partition"
   ]
  },
  {
   "cell_type": "code",
   "execution_count": null,
   "metadata": {},
   "outputs": [],
   "source": []
  },
  {
   "cell_type": "code",
   "execution_count": null,
   "metadata": {},
   "outputs": [],
   "source": [
    "boxes[0,...]"
   ]
  },
  {
   "cell_type": "code",
   "execution_count": null,
   "metadata": {},
   "outputs": [],
   "source": [
    "true_boxes = boxes[0].copy()\n",
    "box = true_boxes[0]\n",
    "np.floor(box[1].astype(int))"
   ]
  },
  {
   "cell_type": "code",
   "execution_count": null,
   "metadata": {},
   "outputs": [],
   "source": [
    "\n",
    "np.where(boxes > 1)\n",
    "boxes[4582,22,0]\n",
    "boxes[boxes > 1] = 1\n",
    "np.where(boxes > 1)"
   ]
  },
  {
   "cell_type": "code",
   "execution_count": null,
   "metadata": {},
   "outputs": [],
   "source": [
    "import math\n"
   ]
  },
  {
   "cell_type": "code",
   "execution_count": null,
   "metadata": {},
   "outputs": [],
   "source": [
    "def rotate(origin, point, angle):\n",
    "    \"\"\"\n",
    "    Rotate a point counterclockwise by a given angle around a given origin.\n",
    "\n",
    "    The angle should be given in radians.\n",
    "    \"\"\"\n",
    "    ox, oy = origin\n",
    "    px, py = point\n",
    "\n",
    "    qx = ox + math.cos(angle) * (px - ox) - math.sin(angle) * (py - oy)\n",
    "    qy = oy + math.sin(angle) * (px - ox) + math.cos(angle) * (py - oy)\n",
    "    return qx, qy"
   ]
  },
  {
   "cell_type": "code",
   "execution_count": null,
   "metadata": {},
   "outputs": [],
   "source": [
    "origin = [.5,.5]\n",
    "point = [.1,.1]\n",
    "angle = math.radians(10)\n",
    "qx,qy = rotate(origin,point,angle)\n",
    "print(qx,qy,angle)\n"
   ]
  },
  {
   "cell_type": "code",
   "execution_count": null,
   "metadata": {},
   "outputs": [],
   "source": [
    "a = np.array([1,2,3])\n",
    "a[[0,0]]\n"
   ]
  },
  {
   "cell_type": "code",
   "execution_count": null,
   "metadata": {},
   "outputs": [],
   "source": [
    "data_len = hdf5_file[\"images\"].shape[0]\n",
    "partition = dict(train=np.array(range(int(0.9 * data_len))),\n",
    "                 validation=np.array(range(int(0.9 * data_len), data_len)))"
   ]
  },
  {
   "cell_type": "code",
   "execution_count": null,
   "metadata": {},
   "outputs": [],
   "source": [
    "partition_eval = partition['train'][[0,0]]"
   ]
  },
  {
   "cell_type": "code",
   "execution_count": null,
   "metadata": {},
   "outputs": [],
   "source": [
    "image_data = np.array([hdf5_file[\"images\"][partition_eval[i], ...] for i in partition_eval])\n",
    "image_data.shape"
   ]
  },
  {
   "cell_type": "code",
   "execution_count": null,
   "metadata": {},
   "outputs": [],
   "source": [
    "len(image_data)"
   ]
  },
  {
   "cell_type": "code",
   "execution_count": null,
   "metadata": {},
   "outputs": [],
   "source": [
    "file_name_boxes ='spine_boxes.hdf5'\n",
    "hdf5_file = h5py.File(file_name_boxes, \"r\")\n",
    "hdf5_file[\"boxes\"].shape\n",
    "list_IDs_temp = [x for x in np.array(range(10))]\n",
    "boxes = hdf5_file[\"boxes\"][list_IDs_temp,...]"
   ]
  },
  {
   "cell_type": "code",
   "execution_count": null,
   "metadata": {},
   "outputs": [],
   "source": [
    "points = boxes[:,:,:2]\n",
    "original_shape = points.shape\n",
    "points = boxes[:,:,:2].reshape(-1,2)\n",
    "points.shape\n",
    "origin = 0.5,0.5\n",
    "angle = np.deg2rad(90)\n",
    "points_rotated = rotate_coordinates(origin,points,angle)\n",
    "points_rotated = points_rotated.reshape(original_shape)\n",
    "points_rotated.shape"
   ]
  },
  {
   "cell_type": "code",
   "execution_count": null,
   "metadata": {},
   "outputs": [],
   "source": [
    "# points is an x,y matrix of shape (n,2)\n",
    "def rotate_coordinates(origin,points,angle):\n",
    "    ox,oy = origin\n",
    "    px,py = points[:,0], points[:,1]\n",
    "    qx = ox + np.cos(angle) * (px - ox) - np.sin(angle) * (py - oy)\n",
    "    qy = oy + np.sin(angle) * (px - ox) + np.cos(angle) * (py - oy)\n",
    "    return np.array([qx,qy]).T"
   ]
  },
  {
   "cell_type": "code",
   "execution_count": null,
   "metadata": {},
   "outputs": [],
   "source": [
    "def transform_matrix_offset_center(matrix, x, y):\n",
    "    o_x = float(x) / 2 + 0.5\n",
    "    o_y = float(y) / 2 + 0.5\n",
    "    offset_matrix = np.array([[1, 0, o_x], [0, 1, o_y], [0, 0, 1]])\n",
    "    reset_matrix = np.array([[1, 0, -o_x], [0, 1, -o_y], [0, 0, 1]])\n",
    "    transform_matrix = np.dot(np.dot(offset_matrix, matrix), reset_matrix)\n",
    "    return transform_matrix"
   ]
  },
  {
   "cell_type": "code",
   "execution_count": null,
   "metadata": {},
   "outputs": [],
   "source": [
    "def apply_transform(x,\n",
    "                    transform_matrix,\n",
    "                    channel_axis=0,\n",
    "                    fill_mode='nearest',\n",
    "                    cval=0.):\n",
    "    \"\"\"Apply the image transformation specified by a matrix.\n",
    "\n",
    "   # Arguments\n",
    "       x: 2D numpy array, single image.\n",
    "       transform_matrix: Numpy array specifying the geometric transformation.\n",
    "       channel_axis: Index of axis for channels in the input tensor.\n",
    "       fill_mode: Points outside the boundaries of the input\n",
    "           are filled according to the given mode\n",
    "           (one of `{'constant', 'nearest', 'reflect', 'wrap'}`).\n",
    "       cval: Value used for points outside the boundaries\n",
    "           of the input if `mode='constant'`.\n",
    "\n",
    "   # Returns\n",
    "       The transformed version of the input.\n",
    "   \"\"\"\n",
    "    x = np.rollaxis(x, channel_axis, 0)\n",
    "    final_affine_matrix = transform_matrix[:2, :2]\n",
    "    final_offset = transform_matrix[:2, 2]\n",
    "    channel_images = [ndi.interpolation.affine_transform(\n",
    "        x_channel,\n",
    "        final_affine_matrix,\n",
    "        final_offset,\n",
    "        order=0,\n",
    "        mode=fill_mode,\n",
    "        cval=cval) for x_channel in x]\n",
    "    x = np.stack(channel_images, axis=0)\n",
    "    x = np.rollaxis(x, 0, channel_axis + 1)\n",
    "    return x"
   ]
  },
  {
   "cell_type": "code",
   "execution_count": null,
   "metadata": {},
   "outputs": [],
   "source": [
    "boxes_path = 'spine_boxes.hdf5'\n",
    "hdf5_file_boxes = h5py.File(boxes_path, \"r\")\n",
    "boxes_loaded = hdf5_file_boxes[\"boxes\"][6000:6010,...]\n",
    "hdf5_file_boxes.close()"
   ]
  },
  {
   "cell_type": "code",
   "execution_count": null,
   "metadata": {},
   "outputs": [],
   "source": [
    "images_path = 'spine_images.hdf5'\n",
    "hdf5_file_images = h5py.File(images_path, \"r\")\n",
    "images_loaded = hdf5_file_images[\"images\"][6000:6010,...]\n",
    "hdf5_file_images.close()"
   ]
  },
  {
   "cell_type": "code",
   "execution_count": null,
   "metadata": {},
   "outputs": [],
   "source": [
    "# preview image with coordinates\n",
    "image = images_loaded[9]\n",
    "boxes_in_image = boxes_loaded[0]\n",
    "plt.figure\n",
    "plt.imshow(image)\n",
    "plt.scatter(boxes_in_image[:,0]*image.shape[1],boxes_in_image[:,1]*image.shape[0])"
   ]
  },
  {
   "cell_type": "code",
   "execution_count": null,
   "metadata": {},
   "outputs": [],
   "source": [
    "np.max(images_loaded[0][images_loaded[0]>0])"
   ]
  },
  {
   "cell_type": "code",
   "execution_count": null,
   "metadata": {},
   "outputs": [],
   "source": [
    "#rotate image 45 degrees\n",
    "angle = -45\n",
    "row_axis = 0\n",
    "col_axis = 1\n",
    "channel_axis = 2\n",
    "fill_mode='constant'\n",
    "cval=0.\n",
    "x = image\n",
    "original_size = x.shape\n",
    "\n",
    "theta = np.pi / 180 * angle\n",
    "rotation_matrix = np.array([[np.cos(theta), -np.sin(theta), 0],\n",
    "                            [np.sin(theta), np.cos(theta), 0],\n",
    "                            [0, 0, 1]])\n",
    "h, w = x.shape[row_axis], x.shape[col_axis]\n",
    "transform_matrix = transform_matrix_offset_center(rotation_matrix, h, w)\n",
    "x = apply_transform(x, transform_matrix, channel_axis, fill_mode, cval)\n",
    "# only rotate boxes where class != 0\n",
    "true_boxes_ind = boxes_in_image[:,4] != 0\n",
    "points = boxes_in_image[true_boxes_ind,:2]\n",
    "points_rotated = rotate_coordinates([.5,.5],points,theta)\n",
    "boxes_in_image_rotated = boxes_in_image.copy()\n",
    "boxes_in_image_rotated[true_boxes_ind,:2] = points_rotated\n",
    "boxes_in_image_rotated[true_boxes_ind,[0,2]] = boxes_in_image_rotated[true_boxes_ind,[0,2]] * original_size[1] / new_size[1]\n",
    "boxes_in_image_rotated[true_boxes_ind,[1,3]] = boxes_in_image_rotated[true_boxes_ind,[1,3]] * original_size[0] / new_size[0]\n",
    "boxes_out_of_bounds_ind = (0>np.min(boxes_in_image[:,:2],axis = 1)) & (1<np.max(boxes_in_image[:,:2],axis = 1))\n",
    "boxes_in_image_rotated[boxes_out_of_bounds_ind,...] = 0"
   ]
  },
  {
   "cell_type": "code",
   "execution_count": null,
   "metadata": {},
   "outputs": [],
   "source": [
    "# image = images_loaded[0]\n",
    "# boxes_in_image = boxes_loaded[0]\n",
    "plt.figure\n",
    "plt.imshow(x)\n",
    "plt.scatter(boxes_in_image_rotated[:,0]*x.shape[1],boxes_in_image_rotated[:,1]*x.shape[0])"
   ]
  },
  {
   "cell_type": "code",
   "execution_count": null,
   "metadata": {},
   "outputs": [],
   "source": [
    "full_boxes_ind = boxes_in_image[:,4] != 0\n",
    "boxes_full = boxes_in_image[full_boxes_ind,...]\n",
    "# boxes_full = boxes_in_image[empty_boxes_ind,...]\n",
    "boxes_full.shape"
   ]
  },
  {
   "cell_type": "code",
   "execution_count": null,
   "metadata": {},
   "outputs": [],
   "source": [
    "original_size[0]/new_size[0]"
   ]
  }
 ],
 "metadata": {
  "kernelspec": {
   "display_name": "yad2k",
   "language": "python",
   "name": "yad2k"
  },
  "language_info": {
   "codemirror_mode": {
    "name": "ipython",
    "version": 3
   },
   "file_extension": ".py",
   "mimetype": "text/x-python",
   "name": "python",
   "nbconvert_exporter": "python",
   "pygments_lexer": "ipython3",
   "version": "3.6.4"
  }
 },
 "nbformat": 4,
 "nbformat_minor": 2
}
